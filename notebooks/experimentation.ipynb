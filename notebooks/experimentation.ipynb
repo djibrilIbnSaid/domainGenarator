{
 "cells": [
  {
   "cell_type": "markdown",
   "id": "66021ba9",
   "metadata": {},
   "source": [
    "# Générateur de Noms de Domaine avec LLM\n",
    "## Expérimentations et Évaluations Systématiques\n",
    "\n",
    "Ce notebook présente le développement itératif d'un système de génération de noms de domaine utilisant des modèles de langage, avec un focus sur l'évaluation automatisée et la découverte de cas limites."
   ]
  },
  {
   "cell_type": "markdown",
   "id": "5849865a",
   "metadata": {},
   "source": [
    "## 1. Configuration et Imports"
   ]
  },
  {
   "cell_type": "code",
   "execution_count": 1,
   "id": "65ec2056",
   "metadata": {},
   "outputs": [
    {
     "name": "stdout",
     "output_type": "stream",
     "text": [
      "Date de l'expérience: 2025-08-02 00:06:19\n"
     ]
    }
   ],
   "source": [
    "import sys\n",
    "import os\n",
    "sys.path.append(\"..\")\n",
    "from datetime import datetime\n",
    "\n",
    "# Import des modules du projet\n",
    "from src.creation_dataset import CreationDataset\n",
    "from src.utils import charger_json\n",
    "\n",
    "\n",
    "print(f\"Date de l'expérience: {datetime.now().strftime('%Y-%m-%d %H:%M:%S')}\")"
   ]
  },
  {
   "cell_type": "markdown",
   "id": "5be76af3",
   "metadata": {},
   "source": [
    "## 2. Création du Dataset Synthétique\n",
    "\n",
    "Nous commençons par créer un dataset synthétique diversifié pour l'évaluation."
   ]
  },
  {
   "cell_type": "code",
   "execution_count": 2,
   "id": "5e76dc40",
   "metadata": {},
   "outputs": [
    {
     "name": "stderr",
     "output_type": "stream",
     "text": [
      "INFO:src.utils:Génération d'un dataset de 800 exemples...\n",
      "INFO:src.utils:Généré 100/800 exemples\n",
      "INFO:src.utils:Généré 200/800 exemples\n",
      "INFO:src.utils:Généré 300/800 exemples\n",
      "INFO:src.utils:Généré 400/800 exemples\n",
      "INFO:src.utils:Généré 500/800 exemples\n",
      "INFO:src.utils:Généré 600/800 exemples\n",
      "INFO:src.utils:Généré 700/800 exemples\n",
      "INFO:src.utils:Généré 800/800 exemples\n",
      "INFO:src.utils:Données sauvegardées dans ../data/dataset_experimental.json\n",
      "INFO:src.utils:Dataset complet sauvegardé: ../data/dataset_experimental.json\n",
      "INFO:src.utils:Données chargées depuis ../data/dataset_experimental.json\n"
     ]
    },
    {
     "name": "stdout",
     "output_type": "stream",
     "text": [
      "Création du dataset synthétique...\n",
      "Dataset créé avec succès:\n",
      "   - Exemples d'entraînement: 800\n",
      "   - Cas limites: 14\n",
      "\n",
      "Exemples de descriptions générées:\n",
      "   1. pratique spécialisé en kinésithérapie situé hôpital\n",
      "   2. café végétarien dans quartier résidentiel\n",
      "   3. vente vêtements dans centre commercial\n",
      "   4. clinique médecine générale dans domicile\n",
      "   5. Nouveau bistro végétarien à bord de mer\n"
     ]
    }
   ],
   "source": [
    "# Initialiser le créateur de dataset\n",
    "creation_dataset = CreationDataset()\n",
    "\n",
    "# Créer le dataset complet\n",
    "print(\"Création du dataset synthétique...\")\n",
    "chemin_dataset = creation_dataset.sauvegarder_dataset(\"dataset_experimental.json\")\n",
    "\n",
    "# Charger et analyser le dataset créé\n",
    "dataset_complet = charger_json(chemin_dataset)\n",
    "\n",
    "print(f\"Dataset créé avec succès:\")\n",
    "print(f\"   - Exemples d'entraînement: {len(dataset_complet['entrainement'])}\")\n",
    "print(f\"   - Cas limites: {len(dataset_complet['cas_limites'])}\")\n",
    "\n",
    "# Visualisation de la distribution des types de business\n",
    "descriptions = [ex['description_business'] for ex in dataset_complet['entrainement']]\n",
    "print(f\"\\nExemples de descriptions générées:\")\n",
    "for i, desc in enumerate(descriptions[:5]):\n",
    "    print(f\"   {i+1}. {desc}\")"
   ]
  },
  {
   "cell_type": "code",
   "execution_count": null,
   "id": "0639595b",
   "metadata": {},
   "outputs": [],
   "source": []
  }
 ],
 "metadata": {
  "kernelspec": {
   "display_name": ".venv (3.13.5)",
   "language": "python",
   "name": "python3"
  },
  "language_info": {
   "codemirror_mode": {
    "name": "ipython",
    "version": 3
   },
   "file_extension": ".py",
   "mimetype": "text/x-python",
   "name": "python",
   "nbconvert_exporter": "python",
   "pygments_lexer": "ipython3",
   "version": "3.13.5"
  }
 },
 "nbformat": 4,
 "nbformat_minor": 5
}
