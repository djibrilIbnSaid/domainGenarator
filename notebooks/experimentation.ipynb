{
 "cells": [
  {
   "cell_type": "markdown",
   "id": "66021ba9",
   "metadata": {},
   "source": [
    "# Générateur de Noms de Domaine avec LLM\n",
    "## Expérimentations et Évaluations Systématiques\n",
    "\n",
    "Ce notebook présente le développement itératif d'un système de génération de noms de domaine utilisant des modèles de langage, avec un focus sur l'évaluation automatisée et la découverte de cas limites."
   ]
  },
  {
   "cell_type": "code",
   "execution_count": 1,
   "id": "65ec2056",
   "metadata": {},
   "outputs": [],
   "source": [
    "import sys\n",
    "import os\n",
    "sys.path.append(\"..\")\n",
    "\n",
    "# Import des modules du projet\n",
    "from src.creation_dataset import CreationDataset"
   ]
  },
  {
   "cell_type": "code",
   "execution_count": 3,
   "id": "5e76dc40",
   "metadata": {},
   "outputs": [
    {
     "data": {
      "text/plain": [
       "'café spécialisé en africain situé quartier résidentiel'"
      ]
     },
     "execution_count": 3,
     "metadata": {},
     "output_type": "execute_result"
    }
   ],
   "source": [
    "creationDataset = CreationDataset()\n",
    "response = creationDataset.generer_description()\n",
    "response"
   ]
  },
  {
   "cell_type": "code",
   "execution_count": null,
   "id": "2ced726b",
   "metadata": {},
   "outputs": [],
   "source": []
  }
 ],
 "metadata": {
  "kernelspec": {
   "display_name": ".venv (3.13.5)",
   "language": "python",
   "name": "python3"
  },
  "language_info": {
   "codemirror_mode": {
    "name": "ipython",
    "version": 3
   },
   "file_extension": ".py",
   "mimetype": "text/x-python",
   "name": "python",
   "nbconvert_exporter": "python",
   "pygments_lexer": "ipython3",
   "version": "3.13.5"
  }
 },
 "nbformat": 4,
 "nbformat_minor": 5
}
